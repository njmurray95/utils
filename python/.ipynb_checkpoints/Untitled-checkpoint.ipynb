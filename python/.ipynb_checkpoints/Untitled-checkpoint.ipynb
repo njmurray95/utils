{
 "cells": [
  {
   "cell_type": "code",
   "execution_count": null,
   "metadata": {},
   "outputs": [],
   "source": [
    "import matplotlib.pyplot as plt\n",
    "import numpy as np\n",
    "\n",
    "xs = np.arange(-20, 20, 0.01)\n",
    "ys = np.sin(xs)\n",
    "\n",
    "#plt.plot(xs, ys, 'black', lw=2)\n",
    "\n",
    "plt.plot(xs, ys, 'r', lw=2)\n",
    "for x0 in xs:\n",
    "    plt.plot(xs, np.cos(x0) * (xs - x0) + np.sin(x0), 'black', lw=0.02)\n",
    "\n",
    "plt.axis([-10, 10, -10, 10])\n",
    "#plt.axis('off')\n",
    "plt.show()\n",
    "\n",
    "print(\"Rendered [1]\")"
   ]
  },
  {
   "cell_type": "code",
   "execution_count": null,
   "metadata": {
    "collapsed": true
   },
   "outputs": [],
   "source": []
  }
 ],
 "metadata": {
  "kernelspec": {
   "display_name": "Python 3",
   "language": "python",
   "name": "python3"
  },
  "language_info": {
   "codemirror_mode": {
    "name": "ipython",
    "version": 3
   },
   "file_extension": ".py",
   "mimetype": "text/x-python",
   "name": "python",
   "nbconvert_exporter": "python",
   "pygments_lexer": "ipython3",
   "version": "3.6.3"
  }
 },
 "nbformat": 4,
 "nbformat_minor": 2
}
